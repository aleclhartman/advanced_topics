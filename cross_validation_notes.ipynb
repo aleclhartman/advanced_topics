{
 "cells": [
  {
   "cell_type": "markdown",
   "metadata": {},
   "source": [
    "# Cross Validation"
   ]
  },
  {
   "cell_type": "code",
   "execution_count": 1,
   "metadata": {},
   "outputs": [],
   "source": [
    "import numpy as np\n",
    "import pandas as pd\n",
    "\n",
    "from pydataset import data\n",
    "\n",
    "from sklearn.model_selection import train_test_split, cross_val_score\n",
    "from sklearn.tree import DecisionTreeClassifier\n",
    "from sklearn.metrics import precision_score, make_scorer"
   ]
  },
  {
   "cell_type": "code",
   "execution_count": 2,
   "metadata": {},
   "outputs": [
    {
     "data": {
      "text/html": [
       "<div>\n",
       "<style scoped>\n",
       "    .dataframe tbody tr th:only-of-type {\n",
       "        vertical-align: middle;\n",
       "    }\n",
       "\n",
       "    .dataframe tbody tr th {\n",
       "        vertical-align: top;\n",
       "    }\n",
       "\n",
       "    .dataframe thead th {\n",
       "        text-align: right;\n",
       "    }\n",
       "</style>\n",
       "<table border=\"1\" class=\"dataframe\">\n",
       "  <thead>\n",
       "    <tr style=\"text-align: right;\">\n",
       "      <th></th>\n",
       "      <th>total_bill</th>\n",
       "      <th>tip</th>\n",
       "      <th>sex</th>\n",
       "      <th>smoker</th>\n",
       "      <th>day</th>\n",
       "      <th>time</th>\n",
       "      <th>size</th>\n",
       "    </tr>\n",
       "  </thead>\n",
       "  <tbody>\n",
       "    <tr>\n",
       "      <th>1</th>\n",
       "      <td>16.99</td>\n",
       "      <td>1.01</td>\n",
       "      <td>Female</td>\n",
       "      <td>No</td>\n",
       "      <td>Sun</td>\n",
       "      <td>Dinner</td>\n",
       "      <td>2</td>\n",
       "    </tr>\n",
       "    <tr>\n",
       "      <th>2</th>\n",
       "      <td>10.34</td>\n",
       "      <td>1.66</td>\n",
       "      <td>Male</td>\n",
       "      <td>No</td>\n",
       "      <td>Sun</td>\n",
       "      <td>Dinner</td>\n",
       "      <td>3</td>\n",
       "    </tr>\n",
       "    <tr>\n",
       "      <th>3</th>\n",
       "      <td>21.01</td>\n",
       "      <td>3.50</td>\n",
       "      <td>Male</td>\n",
       "      <td>No</td>\n",
       "      <td>Sun</td>\n",
       "      <td>Dinner</td>\n",
       "      <td>3</td>\n",
       "    </tr>\n",
       "    <tr>\n",
       "      <th>4</th>\n",
       "      <td>23.68</td>\n",
       "      <td>3.31</td>\n",
       "      <td>Male</td>\n",
       "      <td>No</td>\n",
       "      <td>Sun</td>\n",
       "      <td>Dinner</td>\n",
       "      <td>2</td>\n",
       "    </tr>\n",
       "    <tr>\n",
       "      <th>5</th>\n",
       "      <td>24.59</td>\n",
       "      <td>3.61</td>\n",
       "      <td>Female</td>\n",
       "      <td>No</td>\n",
       "      <td>Sun</td>\n",
       "      <td>Dinner</td>\n",
       "      <td>4</td>\n",
       "    </tr>\n",
       "  </tbody>\n",
       "</table>\n",
       "</div>"
      ],
      "text/plain": [
       "   total_bill   tip     sex smoker  day    time  size\n",
       "1       16.99  1.01  Female     No  Sun  Dinner     2\n",
       "2       10.34  1.66    Male     No  Sun  Dinner     3\n",
       "3       21.01  3.50    Male     No  Sun  Dinner     3\n",
       "4       23.68  3.31    Male     No  Sun  Dinner     2\n",
       "5       24.59  3.61  Female     No  Sun  Dinner     4"
      ]
     },
     "execution_count": 2,
     "metadata": {},
     "output_type": "execute_result"
    }
   ],
   "source": [
    "tips = data(\"tips\")\n",
    "tips.head()"
   ]
  },
  {
   "cell_type": "code",
   "execution_count": 3,
   "metadata": {},
   "outputs": [],
   "source": [
    "X = tips[[\"tip\", \"total_bill\", \"size\"]]\n",
    "y = tips.time\n",
    "\n",
    "X_train, X_test, y_train, y_test = train_test_split(X, y, random_state=123, test_size=.2)"
   ]
  },
  {
   "cell_type": "code",
   "execution_count": 4,
   "metadata": {},
   "outputs": [],
   "source": [
    "tree = DecisionTreeClassifier(max_depth=4)"
   ]
  },
  {
   "cell_type": "code",
   "execution_count": 5,
   "metadata": {},
   "outputs": [
    {
     "data": {
      "text/plain": [
       "0.6922831632653061"
      ]
     },
     "execution_count": 5,
     "metadata": {},
     "output_type": "execute_result"
    }
   ],
   "source": [
    "cross_val_score(tree, X_train, y_train, cv=4).mean()"
   ]
  },
  {
   "cell_type": "code",
   "execution_count": 6,
   "metadata": {},
   "outputs": [
    {
     "data": {
      "text/plain": [
       "DecisionTreeClassifier(ccp_alpha=0.0, class_weight=None, criterion='gini',\n",
       "                       max_depth=4, max_features=None, max_leaf_nodes=None,\n",
       "                       min_impurity_decrease=0.0, min_impurity_split=None,\n",
       "                       min_samples_leaf=1, min_samples_split=2,\n",
       "                       min_weight_fraction_leaf=0.0, presort='deprecated',\n",
       "                       random_state=None, splitter='best')"
      ]
     },
     "execution_count": 6,
     "metadata": {},
     "output_type": "execute_result"
    }
   ],
   "source": [
    "tree.fit(X_train, y_train)"
   ]
  },
  {
   "cell_type": "code",
   "execution_count": 7,
   "metadata": {},
   "outputs": [
    {
     "data": {
      "text/plain": [
       "0.8571428571428571"
      ]
     },
     "execution_count": 7,
     "metadata": {},
     "output_type": "execute_result"
    }
   ],
   "source": [
    "predicted = tree.predict(X_train)\n",
    "actual = y_train\n",
    "\n",
    "precision_score(actual, predicted, pos_label=\"Dinner\")"
   ]
  },
  {
   "cell_type": "code",
   "execution_count": 8,
   "metadata": {},
   "outputs": [
    {
     "data": {
      "text/plain": [
       "0.7402330314997984"
      ]
     },
     "execution_count": 8,
     "metadata": {},
     "output_type": "execute_result"
    }
   ],
   "source": [
    "precision_scorer = make_scorer(precision_score, pos_label=\"Dinner\")\n",
    "\n",
    "# decision tree with max depth of 4\n",
    "cross_val_score(tree, X_train, y_train, cv=4, scoring=precision_scorer).mean()"
   ]
  },
  {
   "cell_type": "code",
   "execution_count": 9,
   "metadata": {},
   "outputs": [
    {
     "data": {
      "text/plain": [
       "0.7396049896049897"
      ]
     },
     "execution_count": 9,
     "metadata": {},
     "output_type": "execute_result"
    }
   ],
   "source": [
    "cross_val_score(DecisionTreeClassifier(max_depth=3), X_train, y_train, scoring=precision_scorer).mean()"
   ]
  },
  {
   "cell_type": "markdown",
   "metadata": {},
   "source": [
    "---\n",
    "## Grid Search"
   ]
  },
  {
   "cell_type": "code",
   "execution_count": 10,
   "metadata": {},
   "outputs": [
    {
     "data": {
      "text/plain": [
       "{'criterion': 'entropy', 'max_depth': 3}"
      ]
     },
     "execution_count": 10,
     "metadata": {},
     "output_type": "execute_result"
    }
   ],
   "source": [
    "from sklearn.model_selection import GridSearchCV\n",
    "\n",
    "# keys are names of hyperparameters\n",
    "# values are a list of values to try with hyperparameters\n",
    "# different values of c for logistic regression\n",
    "# different value of k for KNN\n",
    "params = {\n",
    "    \"max_depth\": range(1, 11),\n",
    "    \"criterion\": [\"gini\", \"entropy\"]\n",
    "}\n",
    "\n",
    "# cv=4 means four-fold cross validation, i.e. k=4\n",
    "grid = GridSearchCV(tree, params, cv=4)\n",
    "grid.fit(X_train, y_train)\n",
    "\n",
    "# best accuracy for out-of-sample data\n",
    "grid.best_params_"
   ]
  },
  {
   "cell_type": "code",
   "execution_count": 11,
   "metadata": {},
   "outputs": [
    {
     "data": {
      "text/plain": [
       "0.6530612244897959"
      ]
     },
     "execution_count": 11,
     "metadata": {},
     "output_type": "execute_result"
    }
   ],
   "source": [
    "# .best_estimator_ gives us a model that is prefit with the best hyperparameters\n",
    "model = grid.best_estimator_\n",
    "model.score(X_test, y_test)"
   ]
  },
  {
   "cell_type": "code",
   "execution_count": 12,
   "metadata": {},
   "outputs": [
    {
     "data": {
      "text/plain": [
       "0.7438350340136054"
      ]
     },
     "execution_count": 12,
     "metadata": {},
     "output_type": "execute_result"
    }
   ],
   "source": [
    "grid.best_score_"
   ]
  },
  {
   "cell_type": "code",
   "execution_count": 13,
   "metadata": {},
   "outputs": [
    {
     "data": {
      "text/plain": [
       "{'mean_fit_time': array([0.00252116, 0.0027312 , 0.00205004, 0.0022043 , 0.00190723,\n",
       "        0.00253379, 0.00195837, 0.0019753 , 0.00184453, 0.00179058,\n",
       "        0.00183976, 0.00191653, 0.00204217, 0.0017398 , 0.00188369,\n",
       "        0.00186181, 0.00181395, 0.00181973, 0.00193441, 0.00184423]),\n",
       " 'std_fit_time': array([4.16219657e-04, 9.12074341e-04, 2.03157988e-04, 2.62950861e-04,\n",
       "        3.42967944e-04, 5.59325477e-04, 2.45879209e-04, 1.27768225e-04,\n",
       "        1.81718639e-04, 1.10765045e-04, 3.61674167e-04, 1.52557014e-04,\n",
       "        3.62641223e-04, 1.66751118e-04, 1.28968516e-04, 1.10115706e-04,\n",
       "        9.35841327e-05, 8.72606300e-05, 5.51769053e-05, 9.29028786e-05]),\n",
       " 'mean_score_time': array([0.00141656, 0.00159138, 0.00111395, 0.00124359, 0.00104696,\n",
       "        0.00102031, 0.0010559 , 0.00101221, 0.00089252, 0.00098199,\n",
       "        0.00086421, 0.00089949, 0.00109279, 0.00082773, 0.00101954,\n",
       "        0.00084978, 0.00087023, 0.00098449, 0.00099707, 0.00082999]),\n",
       " 'std_score_time': array([4.96415837e-04, 7.87113535e-04, 1.76679941e-04, 1.41679325e-04,\n",
       "        2.69244644e-04, 5.90427858e-05, 3.11989745e-04, 1.42720008e-04,\n",
       "        4.93432868e-05, 2.58753772e-04, 1.01179740e-04, 5.36387163e-05,\n",
       "        1.30449664e-04, 1.31437365e-05, 2.16436694e-04, 6.02150595e-05,\n",
       "        1.52401512e-05, 1.28021162e-04, 8.26134998e-05, 1.74440098e-05]),\n",
       " 'param_criterion': masked_array(data=['gini', 'gini', 'gini', 'gini', 'gini', 'gini', 'gini',\n",
       "                    'gini', 'gini', 'gini', 'entropy', 'entropy',\n",
       "                    'entropy', 'entropy', 'entropy', 'entropy', 'entropy',\n",
       "                    'entropy', 'entropy', 'entropy'],\n",
       "              mask=[False, False, False, False, False, False, False, False,\n",
       "                    False, False, False, False, False, False, False, False,\n",
       "                    False, False, False, False],\n",
       "        fill_value='?',\n",
       "             dtype=object),\n",
       " 'param_max_depth': masked_array(data=[1, 2, 3, 4, 5, 6, 7, 8, 9, 10, 1, 2, 3, 4, 5, 6, 7, 8,\n",
       "                    9, 10],\n",
       "              mask=[False, False, False, False, False, False, False, False,\n",
       "                    False, False, False, False, False, False, False, False,\n",
       "                    False, False, False, False],\n",
       "        fill_value='?',\n",
       "             dtype=object),\n",
       " 'params': [{'criterion': 'gini', 'max_depth': 1},\n",
       "  {'criterion': 'gini', 'max_depth': 2},\n",
       "  {'criterion': 'gini', 'max_depth': 3},\n",
       "  {'criterion': 'gini', 'max_depth': 4},\n",
       "  {'criterion': 'gini', 'max_depth': 5},\n",
       "  {'criterion': 'gini', 'max_depth': 6},\n",
       "  {'criterion': 'gini', 'max_depth': 7},\n",
       "  {'criterion': 'gini', 'max_depth': 8},\n",
       "  {'criterion': 'gini', 'max_depth': 9},\n",
       "  {'criterion': 'gini', 'max_depth': 10},\n",
       "  {'criterion': 'entropy', 'max_depth': 1},\n",
       "  {'criterion': 'entropy', 'max_depth': 2},\n",
       "  {'criterion': 'entropy', 'max_depth': 3},\n",
       "  {'criterion': 'entropy', 'max_depth': 4},\n",
       "  {'criterion': 'entropy', 'max_depth': 5},\n",
       "  {'criterion': 'entropy', 'max_depth': 6},\n",
       "  {'criterion': 'entropy', 'max_depth': 7},\n",
       "  {'criterion': 'entropy', 'max_depth': 8},\n",
       "  {'criterion': 'entropy', 'max_depth': 9},\n",
       "  {'criterion': 'entropy', 'max_depth': 10}],\n",
       " 'split0_test_score': array([0.73469388, 0.73469388, 0.73469388, 0.71428571, 0.55102041,\n",
       "        0.63265306, 0.6122449 , 0.69387755, 0.6122449 , 0.59183673,\n",
       "        0.73469388, 0.73469388, 0.73469388, 0.59183673, 0.65306122,\n",
       "        0.65306122, 0.53061224, 0.53061224, 0.6122449 , 0.55102041]),\n",
       " 'split1_test_score': array([0.71428571, 0.71428571, 0.67346939, 0.67346939, 0.67346939,\n",
       "        0.69387755, 0.65306122, 0.65306122, 0.63265306, 0.67346939,\n",
       "        0.71428571, 0.71428571, 0.71428571, 0.67346939, 0.65306122,\n",
       "        0.65306122, 0.67346939, 0.6122449 , 0.65306122, 0.65306122]),\n",
       " 'split2_test_score': array([0.73469388, 0.73469388, 0.73469388, 0.71428571, 0.63265306,\n",
       "        0.73469388, 0.73469388, 0.71428571, 0.71428571, 0.71428571,\n",
       "        0.73469388, 0.73469388, 0.73469388, 0.75510204, 0.73469388,\n",
       "        0.75510204, 0.69387755, 0.75510204, 0.73469388, 0.73469388]),\n",
       " 'split3_test_score': array([0.75      , 0.75      , 0.75      , 0.6875    , 0.64583333,\n",
       "        0.625     , 0.625     , 0.625     , 0.625     , 0.625     ,\n",
       "        0.75      , 0.75      , 0.79166667, 0.75      , 0.75      ,\n",
       "        0.60416667, 0.70833333, 0.5625    , 0.5625    , 0.54166667]),\n",
       " 'mean_test_score': array([0.73341837, 0.73341837, 0.72321429, 0.6973852 , 0.62574405,\n",
       "        0.67155612, 0.65625   , 0.67155612, 0.64604592, 0.65114796,\n",
       "        0.73341837, 0.73341837, 0.74383503, 0.69260204, 0.69770408,\n",
       "        0.66634779, 0.65157313, 0.6151148 , 0.640625  , 0.62011054]),\n",
       " 'std_test_score': array([0.01269117, 0.01269117, 0.02939214, 0.01761348, 0.04558685,\n",
       "        0.0451817 , 0.04763565, 0.03476204, 0.04006706, 0.04659978,\n",
       "        0.01269117, 0.01269117, 0.02884506, 0.06655915, 0.04496965,\n",
       "        0.0549929 , 0.07092666, 0.08589771, 0.0630725 , 0.07928111]),\n",
       " 'rank_test_score': array([ 2,  2,  6,  8, 18, 10, 13, 10, 16, 15,  2,  2,  1,  9,  7, 12, 14,\n",
       "        20, 17, 19], dtype=int32)}"
      ]
     },
     "execution_count": 13,
     "metadata": {},
     "output_type": "execute_result"
    }
   ],
   "source": [
    "# cv_results_ gives us a dictionary with a params key that containts a list of dictionaries that represent the\n",
    "# params that were used for the model\n",
    "\n",
    "results = grid.cv_results_\n",
    "results"
   ]
  },
  {
   "cell_type": "code",
   "execution_count": 14,
   "metadata": {},
   "outputs": [
    {
     "data": {
      "text/html": [
       "<div>\n",
       "<style scoped>\n",
       "    .dataframe tbody tr th:only-of-type {\n",
       "        vertical-align: middle;\n",
       "    }\n",
       "\n",
       "    .dataframe tbody tr th {\n",
       "        vertical-align: top;\n",
       "    }\n",
       "\n",
       "    .dataframe thead th {\n",
       "        text-align: right;\n",
       "    }\n",
       "</style>\n",
       "<table border=\"1\" class=\"dataframe\">\n",
       "  <thead>\n",
       "    <tr style=\"text-align: right;\">\n",
       "      <th></th>\n",
       "      <th>criterion</th>\n",
       "      <th>max_depth</th>\n",
       "      <th>score</th>\n",
       "    </tr>\n",
       "  </thead>\n",
       "  <tbody>\n",
       "    <tr>\n",
       "      <th>0</th>\n",
       "      <td>gini</td>\n",
       "      <td>1</td>\n",
       "      <td>0.733418</td>\n",
       "    </tr>\n",
       "    <tr>\n",
       "      <th>1</th>\n",
       "      <td>gini</td>\n",
       "      <td>2</td>\n",
       "      <td>0.733418</td>\n",
       "    </tr>\n",
       "    <tr>\n",
       "      <th>2</th>\n",
       "      <td>gini</td>\n",
       "      <td>3</td>\n",
       "      <td>0.723214</td>\n",
       "    </tr>\n",
       "    <tr>\n",
       "      <th>3</th>\n",
       "      <td>gini</td>\n",
       "      <td>4</td>\n",
       "      <td>0.697385</td>\n",
       "    </tr>\n",
       "    <tr>\n",
       "      <th>4</th>\n",
       "      <td>gini</td>\n",
       "      <td>5</td>\n",
       "      <td>0.625744</td>\n",
       "    </tr>\n",
       "    <tr>\n",
       "      <th>5</th>\n",
       "      <td>gini</td>\n",
       "      <td>6</td>\n",
       "      <td>0.671556</td>\n",
       "    </tr>\n",
       "    <tr>\n",
       "      <th>6</th>\n",
       "      <td>gini</td>\n",
       "      <td>7</td>\n",
       "      <td>0.656250</td>\n",
       "    </tr>\n",
       "    <tr>\n",
       "      <th>7</th>\n",
       "      <td>gini</td>\n",
       "      <td>8</td>\n",
       "      <td>0.671556</td>\n",
       "    </tr>\n",
       "    <tr>\n",
       "      <th>8</th>\n",
       "      <td>gini</td>\n",
       "      <td>9</td>\n",
       "      <td>0.646046</td>\n",
       "    </tr>\n",
       "    <tr>\n",
       "      <th>9</th>\n",
       "      <td>gini</td>\n",
       "      <td>10</td>\n",
       "      <td>0.651148</td>\n",
       "    </tr>\n",
       "    <tr>\n",
       "      <th>10</th>\n",
       "      <td>entropy</td>\n",
       "      <td>1</td>\n",
       "      <td>0.733418</td>\n",
       "    </tr>\n",
       "    <tr>\n",
       "      <th>11</th>\n",
       "      <td>entropy</td>\n",
       "      <td>2</td>\n",
       "      <td>0.733418</td>\n",
       "    </tr>\n",
       "    <tr>\n",
       "      <th>12</th>\n",
       "      <td>entropy</td>\n",
       "      <td>3</td>\n",
       "      <td>0.743835</td>\n",
       "    </tr>\n",
       "    <tr>\n",
       "      <th>13</th>\n",
       "      <td>entropy</td>\n",
       "      <td>4</td>\n",
       "      <td>0.692602</td>\n",
       "    </tr>\n",
       "    <tr>\n",
       "      <th>14</th>\n",
       "      <td>entropy</td>\n",
       "      <td>5</td>\n",
       "      <td>0.697704</td>\n",
       "    </tr>\n",
       "    <tr>\n",
       "      <th>15</th>\n",
       "      <td>entropy</td>\n",
       "      <td>6</td>\n",
       "      <td>0.666348</td>\n",
       "    </tr>\n",
       "    <tr>\n",
       "      <th>16</th>\n",
       "      <td>entropy</td>\n",
       "      <td>7</td>\n",
       "      <td>0.651573</td>\n",
       "    </tr>\n",
       "    <tr>\n",
       "      <th>17</th>\n",
       "      <td>entropy</td>\n",
       "      <td>8</td>\n",
       "      <td>0.615115</td>\n",
       "    </tr>\n",
       "    <tr>\n",
       "      <th>18</th>\n",
       "      <td>entropy</td>\n",
       "      <td>9</td>\n",
       "      <td>0.640625</td>\n",
       "    </tr>\n",
       "    <tr>\n",
       "      <th>19</th>\n",
       "      <td>entropy</td>\n",
       "      <td>10</td>\n",
       "      <td>0.620111</td>\n",
       "    </tr>\n",
       "  </tbody>\n",
       "</table>\n",
       "</div>"
      ],
      "text/plain": [
       "   criterion  max_depth     score\n",
       "0       gini          1  0.733418\n",
       "1       gini          2  0.733418\n",
       "2       gini          3  0.723214\n",
       "3       gini          4  0.697385\n",
       "4       gini          5  0.625744\n",
       "5       gini          6  0.671556\n",
       "6       gini          7  0.656250\n",
       "7       gini          8  0.671556\n",
       "8       gini          9  0.646046\n",
       "9       gini         10  0.651148\n",
       "10   entropy          1  0.733418\n",
       "11   entropy          2  0.733418\n",
       "12   entropy          3  0.743835\n",
       "13   entropy          4  0.692602\n",
       "14   entropy          5  0.697704\n",
       "15   entropy          6  0.666348\n",
       "16   entropy          7  0.651573\n",
       "17   entropy          8  0.615115\n",
       "18   entropy          9  0.640625\n",
       "19   entropy         10  0.620111"
      ]
     },
     "execution_count": 14,
     "metadata": {},
     "output_type": "execute_result"
    }
   ],
   "source": [
    "# modify each parameter dictionary such that it also contains the model's average performance after cross validation\n",
    "for score, p in zip(results[\"mean_test_score\"], results[\"params\"]):\n",
    "    p[\"score\"] = score\n",
    "\n",
    "# score is the model's performance on unseen data (validate split); we have never touched test\n",
    "df = pd.DataFrame(results[\"params\"])\n",
    "df"
   ]
  },
  {
   "cell_type": "markdown",
   "metadata": {},
   "source": [
    "---\n",
    "## Use Cases\n",
    "\n",
    "- Probably won't use this for:\n",
    "    - MVP\n",
    "    \n",
    "- Would to use this:\n",
    "    - When focusing on modeling\n",
    "    - In a good spot with feature engineering\n",
    "    - When the best bang for your buck is going to be tweaking hyperparameters"
   ]
  },
  {
   "cell_type": "code",
   "execution_count": null,
   "metadata": {},
   "outputs": [],
   "source": []
  }
 ],
 "metadata": {
  "kernelspec": {
   "display_name": "Python 3",
   "language": "python",
   "name": "python3"
  },
  "language_info": {
   "codemirror_mode": {
    "name": "ipython",
    "version": 3
   },
   "file_extension": ".py",
   "mimetype": "text/x-python",
   "name": "python",
   "nbconvert_exporter": "python",
   "pygments_lexer": "ipython3",
   "version": "3.7.4"
  }
 },
 "nbformat": 4,
 "nbformat_minor": 2
}
